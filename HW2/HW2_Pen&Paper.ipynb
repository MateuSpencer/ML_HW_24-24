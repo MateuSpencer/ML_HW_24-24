{
 "cells": [
  {
   "cell_type": "markdown",
   "metadata": {},
   "source": [
    "# 1"
   ]
  },
  {
   "cell_type": "markdown",
   "metadata": {},
   "source": [
    "### a)"
   ]
  },
  {
   "cell_type": "code",
   "execution_count": 11,
   "metadata": {},
   "outputs": [
    {
     "data": {
      "text/html": [
       "<div>\n",
       "<style scoped>\n",
       "    .dataframe tbody tr th:only-of-type {\n",
       "        vertical-align: middle;\n",
       "    }\n",
       "\n",
       "    .dataframe tbody tr th {\n",
       "        vertical-align: top;\n",
       "    }\n",
       "\n",
       "    .dataframe thead th {\n",
       "        text-align: right;\n",
       "    }\n",
       "</style>\n",
       "<table border=\"1\" class=\"dataframe\">\n",
       "  <thead>\n",
       "    <tr style=\"text-align: right;\">\n",
       "      <th></th>\n",
       "      <th>D</th>\n",
       "      <th>y1</th>\n",
       "      <th>y2</th>\n",
       "      <th>y3</th>\n",
       "      <th>y4</th>\n",
       "      <th>y5</th>\n",
       "    </tr>\n",
       "  </thead>\n",
       "  <tbody>\n",
       "    <tr>\n",
       "      <th>0</th>\n",
       "      <td>A</td>\n",
       "      <td>0.24</td>\n",
       "      <td>0.36</td>\n",
       "      <td>1</td>\n",
       "      <td>1</td>\n",
       "      <td>0</td>\n",
       "    </tr>\n",
       "    <tr>\n",
       "      <th>1</th>\n",
       "      <td>A</td>\n",
       "      <td>0.16</td>\n",
       "      <td>0.48</td>\n",
       "      <td>1</td>\n",
       "      <td>0</td>\n",
       "      <td>1</td>\n",
       "    </tr>\n",
       "    <tr>\n",
       "      <th>2</th>\n",
       "      <td>A</td>\n",
       "      <td>0.32</td>\n",
       "      <td>0.72</td>\n",
       "      <td>0</td>\n",
       "      <td>1</td>\n",
       "      <td>2</td>\n",
       "    </tr>\n",
       "    <tr>\n",
       "      <th>3</th>\n",
       "      <td>B</td>\n",
       "      <td>0.54</td>\n",
       "      <td>0.11</td>\n",
       "      <td>0</td>\n",
       "      <td>0</td>\n",
       "      <td>1</td>\n",
       "    </tr>\n",
       "    <tr>\n",
       "      <th>4</th>\n",
       "      <td>B</td>\n",
       "      <td>0.66</td>\n",
       "      <td>0.39</td>\n",
       "      <td>0</td>\n",
       "      <td>0</td>\n",
       "      <td>0</td>\n",
       "    </tr>\n",
       "    <tr>\n",
       "      <th>5</th>\n",
       "      <td>B</td>\n",
       "      <td>0.76</td>\n",
       "      <td>0.28</td>\n",
       "      <td>1</td>\n",
       "      <td>0</td>\n",
       "      <td>2</td>\n",
       "    </tr>\n",
       "    <tr>\n",
       "      <th>6</th>\n",
       "      <td>B</td>\n",
       "      <td>0.41</td>\n",
       "      <td>0.53</td>\n",
       "      <td>0</td>\n",
       "      <td>1</td>\n",
       "      <td>1</td>\n",
       "    </tr>\n",
       "    <tr>\n",
       "      <th>7</th>\n",
       "      <td>A</td>\n",
       "      <td>0.38</td>\n",
       "      <td>0.52</td>\n",
       "      <td>0</td>\n",
       "      <td>1</td>\n",
       "      <td>0</td>\n",
       "    </tr>\n",
       "    <tr>\n",
       "      <th>8</th>\n",
       "      <td>B</td>\n",
       "      <td>0.42</td>\n",
       "      <td>0.59</td>\n",
       "      <td>0</td>\n",
       "      <td>1</td>\n",
       "      <td>1</td>\n",
       "    </tr>\n",
       "  </tbody>\n",
       "</table>\n",
       "</div>"
      ],
      "text/plain": [
       "   D    y1    y2  y3  y4  y5\n",
       "0  A  0.24  0.36   1   1   0\n",
       "1  A  0.16  0.48   1   0   1\n",
       "2  A  0.32  0.72   0   1   2\n",
       "3  B  0.54  0.11   0   0   1\n",
       "4  B  0.66  0.39   0   0   0\n",
       "5  B  0.76  0.28   1   0   2\n",
       "6  B  0.41  0.53   0   1   1\n",
       "7  A  0.38  0.52   0   1   0\n",
       "8  B  0.42  0.59   0   1   1"
      ]
     },
     "execution_count": 11,
     "metadata": {},
     "output_type": "execute_result"
    }
   ],
   "source": [
    "import pandas as pd\n",
    "\n",
    "df = pd.DataFrame({\n",
    "    'D': ['A', 'A', 'A', 'B', 'B', 'B', 'B', 'A', 'B'],\n",
    "    'y1': [0.24, 0.16, 0.32, 0.54, 0.66, 0.76, 0.41, 0.38, 0.42],\n",
    "    'y2': [0.36, 0.48, 0.72, 0.11, 0.39, 0.28, 0.53, 0.52, 0.59],\n",
    "    'y3': [1, 1, 0, 0, 0, 1, 0, 0, 0],\n",
    "    'y4': [1, 0, 1, 0, 0, 0, 1, 1, 1],\n",
    "    'y5': [0, 1, 2, 1, 0, 2, 1, 0, 1]\n",
    "})\n",
    "\n",
    "\n",
    "df"
   ]
  },
  {
   "cell_type": "code",
   "execution_count": 14,
   "metadata": {},
   "outputs": [
    {
     "data": {
      "text/plain": [
       "<scipy.stats._multivariate.multivariate_normal_frozen at 0x19e6be09a20>"
      ]
     },
     "execution_count": 14,
     "metadata": {},
     "output_type": "execute_result"
    }
   ],
   "source": [
    "import numpy as np\n",
    "from scipy.stats import multivariate_normal\n",
    "\n",
    "# Training data for y1 and y2\n",
    "train_y1_y2 = df[['y1', 'y2']][:7].values\n",
    "\n",
    "# Estimate the mean vector and covariance matrix for y1 and y2\n",
    "mean_y1_y2 = np.mean(train_y1_y2, axis=0)\n",
    "cov_y1_y2 = np.cov(train_y1_y2, rowvar=False)\n",
    "# Create a multivariate normal distribution for y1 and y2\n",
    "y1_y2_dist = multivariate_normal(mean=mean_y1_y2, cov=cov_y1_y2)\n",
    "\n",
    "\n"
   ]
  },
  {
   "cell_type": "markdown",
   "metadata": {},
   "source": [
    "# 2"
   ]
  },
  {
   "cell_type": "markdown",
   "metadata": {},
   "source": [
    "### a)"
   ]
  },
  {
   "cell_type": "code",
   "execution_count": 4,
   "metadata": {},
   "outputs": [
    {
     "name": "stdout",
     "output_type": "stream",
     "text": [
      "   column_name             bin bin_value\n",
      "0         0.36  (0.109, 0.415]         0\n",
      "1         0.48   (0.415, 0.72]         1\n",
      "2         0.72   (0.415, 0.72]         1\n",
      "3         0.11  (0.109, 0.415]         0\n",
      "4         0.39  (0.109, 0.415]         0\n",
      "5         0.28  (0.109, 0.415]         0\n",
      "6         0.53   (0.415, 0.72]         1\n",
      "7         0.52   (0.415, 0.72]         1\n",
      "8         0.59   (0.415, 0.72]         1\n"
     ]
    }
   ],
   "source": [
    "import pandas as pd\n",
    "\n",
    "# Create a DataFrame with your data\n",
    "data = [0.36, 0.48, 0.72, 0.11, 0.39, 0.28, 0.53, 0.52, 0.59]\n",
    "df = pd.DataFrame(data, columns=['column_name'])\n",
    "\n",
    "# Define the number of bins\n",
    "num_bins = 2\n",
    "\n",
    "# Perform equal-width discretization\n",
    "df['bin'] = pd.cut(df['column_name'], bins=num_bins)\n",
    "\n",
    "# Map bin labels to 0 or 1\n",
    "df['bin_value'] = df['bin'].apply(lambda x: 0 if x == pd.Interval(0.109, 0.415, closed='right') else 1)\n",
    "\n",
    "# Print the result\n",
    "print(df)\n"
   ]
  },
  {
   "cell_type": "markdown",
   "metadata": {},
   "source": [
    "### b)"
   ]
  }
 ],
 "metadata": {
  "kernelspec": {
   "display_name": "Python 3",
   "language": "python",
   "name": "python3"
  },
  "language_info": {
   "codemirror_mode": {
    "name": "ipython",
    "version": 3
   },
   "file_extension": ".py",
   "mimetype": "text/x-python",
   "name": "python",
   "nbconvert_exporter": "python",
   "pygments_lexer": "ipython3",
   "version": "3.10.11"
  }
 },
 "nbformat": 4,
 "nbformat_minor": 2
}
