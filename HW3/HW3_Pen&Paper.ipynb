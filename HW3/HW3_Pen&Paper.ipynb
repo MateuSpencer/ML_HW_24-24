{
 "cells": [
  {
   "cell_type": "markdown",
   "metadata": {},
   "source": [
    "# 1"
   ]
  },
  {
   "cell_type": "code",
   "execution_count": 187,
   "metadata": {},
   "outputs": [
    {
     "data": {
      "text/plain": [
       "array([[ 0.7, -0.3],\n",
       "       [ 0.4,  0.5],\n",
       "       [-0.2,  0.8],\n",
       "       [-0.4,  0.3]])"
      ]
     },
     "execution_count": 187,
     "metadata": {},
     "output_type": "execute_result"
    }
   ],
   "source": [
    "import numpy as np\n",
    "\n",
    "column1 = [0.7, 0.4, -0.2, -0.4]\n",
    "column2 = [-0.3, 0.5, 0.8, 0.3]\n",
    "column3 = [0.8, 0.6, 0.3, 0.3]\n",
    "\n",
    "X = np.column_stack((column1, column2))\n",
    "\n",
    "y = np.array(column3)\n",
    "\n",
    "X"
   ]
  },
  {
   "cell_type": "markdown",
   "metadata": {},
   "source": [
    "### a)"
   ]
  },
  {
   "cell_type": "code",
   "execution_count": 188,
   "metadata": {},
   "outputs": [
    {
     "name": "stdout",
     "output_type": "stream",
     "text": [
      "[[1.         0.74826357 0.74826357 0.10126646]\n",
      " [1.         0.81464732 0.27117254 0.33121088]\n",
      " [1.         0.71177032 0.09632764 0.71177032]\n",
      " [1.         0.8824969  0.16121764 0.65376979]]\n"
     ]
    }
   ],
   "source": [
    "# Regularization parameter (λ)\n",
    "alpha = 0.1\n",
    "\n",
    "# Define the RBF centers\n",
    "centers = [(0, 0), (1, -1), (-1, 1)]\n",
    "\n",
    "# Initialize an empty array for the transformed data\n",
    "X_transformed = np.zeros((len(column1), len(centers)))\n",
    "\n",
    "# Apply the radial basis function for each center\n",
    "for j, center in enumerate(centers):\n",
    "    for i in range(len(column1)):\n",
    "        x = np.array([column1[i], column2[i]])\n",
    "        c = np.array(center)\n",
    "        # Compute the radial basis function value and store it in the transformed_data array\n",
    "        X_transformed[i, j] = np.exp(-np.linalg.norm(x - c)**2 / 2)\n",
    "\n",
    "# Add a column of 1s for the bias term\n",
    "bias_column = np.ones((len(column1), 1))\n",
    "X_transformed = np.hstack((bias_column, X_transformed))\n",
    "\n",
    "print(X_transformed)"
   ]
  },
  {
   "cell_type": "markdown",
   "metadata": {},
   "source": [
    "Learn the Ridge regression (𝑙2 regularization) using the closed solution"
   ]
  },
  {
   "cell_type": "code",
   "execution_count": 189,
   "metadata": {},
   "outputs": [
    {
     "data": {
      "text/plain": [
       "array([[4.        , 3.15717811, 1.27698138, 1.79801745],\n",
       "       [3.15717811, 2.50896639, 0.99164557, 1.42916086],\n",
       "       [1.27698138, 0.99164557, 0.66870305, 0.33955168],\n",
       "       [1.79801745, 1.42916086, 0.33955168, 1.05398747]])"
      ]
     },
     "execution_count": 189,
     "metadata": {},
     "output_type": "execute_result"
    }
   ],
   "source": [
    "np.matmul(X_transformed.T, X_transformed)"
   ]
  },
  {
   "cell_type": "code",
   "execution_count": 190,
   "metadata": {},
   "outputs": [
    {
     "data": {
      "text/plain": [
       "array([[4.1       , 3.15717811, 1.27698138, 1.79801745],\n",
       "       [3.15717811, 2.60896639, 0.99164557, 1.42916086],\n",
       "       [1.27698138, 0.99164557, 0.76870305, 0.33955168],\n",
       "       [1.79801745, 1.42916086, 0.33955168, 1.15398747]])"
      ]
     },
     "execution_count": 190,
     "metadata": {},
     "output_type": "execute_result"
    }
   ],
   "source": [
    "np.matmul(X_transformed.T, X_transformed) + alpha * np.identity(4)"
   ]
  },
  {
   "cell_type": "code",
   "execution_count": 191,
   "metadata": {},
   "outputs": [
    {
     "data": {
      "text/plain": [
       "array([[ 4.54826202, -3.77681832, -1.86116983, -1.86155421],\n",
       "       [-3.77681832,  5.98284561, -0.88542926, -1.26432443],\n",
       "       [-1.86116983, -0.88542926,  4.33275508,  2.72155678],\n",
       "       [-1.86155421, -1.26432443,  2.72155678,  4.53204296]])"
      ]
     },
     "execution_count": 191,
     "metadata": {},
     "output_type": "execute_result"
    }
   ],
   "source": [
    "inv = np.linalg.pinv(np.matmul(X_transformed.T, X_transformed) + alpha * np.identity(4))\n",
    "inv\n"
   ]
  },
  {
   "cell_type": "code",
   "execution_count": 192,
   "metadata": {},
   "outputs": [
    {
     "data": {
      "text/plain": [
       "array([[ 0.14104789,  0.35022196,  0.3557537 , -0.30184975],\n",
       "       [-0.09064104,  0.43822869, -0.50360629,  0.53370047],\n",
       "       [ 0.99394091, -0.506149  , -0.13690469, -0.16477025],\n",
       "       [-0.31221638, -0.65245932,  0.726472  ,  0.42435912]])"
      ]
     },
     "execution_count": 192,
     "metadata": {},
     "output_type": "execute_result"
    }
   ],
   "source": [
    "moore_penrose = np.matmul(inv, X_transformed.T)\n",
    "moore_penrose"
   ]
  },
  {
   "cell_type": "code",
   "execution_count": 193,
   "metadata": {},
   "outputs": [
    {
     "data": {
      "text/plain": [
       "array([ 0.33914267,  0.19945264,  0.40096085, -0.29599936])"
      ]
     },
     "execution_count": 193,
     "metadata": {},
     "output_type": "execute_result"
    }
   ],
   "source": [
    "W_ridge = np.matmul(moore_penrose, y)\n",
    "W_ridge"
   ]
  },
  {
   "cell_type": "markdown",
   "metadata": {},
   "source": [
    "### b)"
   ]
  },
  {
   "cell_type": "code",
   "execution_count": 195,
   "metadata": {},
   "outputs": [
    {
     "name": "stdout",
     "output_type": "stream",
     "text": [
      "RMSE: 0.06508238153393446\n"
     ]
    }
   ],
   "source": [
    "y_pred = np.dot(X_transformed, W_ridge)\n",
    "\n",
    "rmse = np.sqrt(np.mean((y - y_pred)**2))\n",
    "\n",
    "print(\"RMSE:\", rmse)"
   ]
  },
  {
   "cell_type": "markdown",
   "metadata": {},
   "source": [
    "# 2"
   ]
  },
  {
   "cell_type": "code",
   "execution_count": 229,
   "metadata": {},
   "outputs": [],
   "source": [
    "learning_rate = 0.1\n",
    "\n",
    "W1 = np.array([[1, 1, 1, 1],\n",
    "                [1, 1, 2, 1],\n",
    "                [1, 1, 1, 1]])\n",
    "b1 = np.array([[1],\n",
    "                [1],\n",
    "                [1]])\n",
    "\n",
    "\n",
    "W2 = np.array([[1, 4, 1],\n",
    "                [1, 1, 1]])\n",
    "b2 = np.array([[1],\n",
    "                [1]])\n",
    "\n",
    "\n",
    "W3 = np.array([[1, 1],\n",
    "                [3, 1],\n",
    "                [1, 1]])\n",
    "b3 = np.array([[1],\n",
    "                [1],\n",
    "                [1]])\n",
    "\n",
    "\n",
    "X0_1 = np.array([[1],\n",
    "                [1],\n",
    "                [1],\n",
    "                [1]])\n",
    "X0_2 = np.array([[1],\n",
    "                [0],\n",
    "                [0],\n",
    "                [-1]])\n",
    "\n",
    "t1 = np.array([[-1],\n",
    "                [1],\n",
    "                [-1]]) #B\n",
    "\n",
    "t2 = np.array([[1],\n",
    "                [-1],\n",
    "                [-1]]) #A\n",
    "\n",
    "def activation_function(x):\n",
    "    return np.tanh(0.5 * x - 2)"
   ]
  },
  {
   "cell_type": "markdown",
   "metadata": {},
   "source": [
    "## Forward Propagation"
   ]
  },
  {
   "cell_type": "markdown",
   "metadata": {},
   "source": [
    "#### Para o input X0_1 (x1 do enunciado) -> _1 indica isso"
   ]
  },
  {
   "cell_type": "code",
   "execution_count": 197,
   "metadata": {},
   "outputs": [
    {
     "data": {
      "text/plain": [
       "array([[5],\n",
       "       [6],\n",
       "       [5]])"
      ]
     },
     "execution_count": 197,
     "metadata": {},
     "output_type": "execute_result"
    }
   ],
   "source": [
    "Z1_1 = np.matmul(W1, X0_1) + b1\n",
    "Z1_1"
   ]
  },
  {
   "cell_type": "code",
   "execution_count": 198,
   "metadata": {},
   "outputs": [
    {
     "data": {
      "text/plain": [
       "array([[0.46211716],\n",
       "       [0.76159416],\n",
       "       [0.46211716]])"
      ]
     },
     "execution_count": 198,
     "metadata": {},
     "output_type": "execute_result"
    }
   ],
   "source": [
    "X1_1 = activation_function(Z1_1)\n",
    "X1_1"
   ]
  },
  {
   "cell_type": "code",
   "execution_count": 199,
   "metadata": {},
   "outputs": [
    {
     "data": {
      "text/plain": [
       "array([[4.97061094],\n",
       "       [2.68582847]])"
      ]
     },
     "execution_count": 199,
     "metadata": {},
     "output_type": "execute_result"
    }
   ],
   "source": [
    "Z2_1 = np.matmul(W2, X1_1) + b2\n",
    "Z2_1"
   ]
  },
  {
   "cell_type": "code",
   "execution_count": 200,
   "metadata": {},
   "outputs": [
    {
     "data": {
      "text/plain": [
       "array([[ 0.45048251],\n",
       "       [-0.57642073]])"
      ]
     },
     "execution_count": 200,
     "metadata": {},
     "output_type": "execute_result"
    }
   ],
   "source": [
    "X2_1 = activation_function(Z2_1)\n",
    "X2_1"
   ]
  },
  {
   "cell_type": "code",
   "execution_count": 201,
   "metadata": {},
   "outputs": [
    {
     "data": {
      "text/plain": [
       "array([[0.87406178],\n",
       "       [1.77502679],\n",
       "       [0.87406178]])"
      ]
     },
     "execution_count": 201,
     "metadata": {},
     "output_type": "execute_result"
    }
   ],
   "source": [
    "Z3_1 = np.matmul(W3, X2_1) + b3\n",
    "Z3_1"
   ]
  },
  {
   "cell_type": "code",
   "execution_count": 202,
   "metadata": {},
   "outputs": [
    {
     "data": {
      "text/plain": [
       "array([[-0.91590016],\n",
       "       [-0.80493961],\n",
       "       [-0.91590016]])"
      ]
     },
     "execution_count": 202,
     "metadata": {},
     "output_type": "execute_result"
    }
   ],
   "source": [
    "X3_1 = activation_function(Z3_1)\n",
    "X3_1"
   ]
  },
  {
   "cell_type": "markdown",
   "metadata": {},
   "source": [
    "#### Para o input X0_2 (x2 do enunciado) _2 indica isso"
   ]
  },
  {
   "cell_type": "code",
   "execution_count": 203,
   "metadata": {},
   "outputs": [
    {
     "data": {
      "text/plain": [
       "array([[1],\n",
       "       [1],\n",
       "       [1]])"
      ]
     },
     "execution_count": 203,
     "metadata": {},
     "output_type": "execute_result"
    }
   ],
   "source": [
    "Z1_2 = np.matmul(W1, X0_2) + b1\n",
    "Z1_2"
   ]
  },
  {
   "cell_type": "code",
   "execution_count": 204,
   "metadata": {},
   "outputs": [
    {
     "data": {
      "text/plain": [
       "array([[-0.90514825],\n",
       "       [-0.90514825],\n",
       "       [-0.90514825]])"
      ]
     },
     "execution_count": 204,
     "metadata": {},
     "output_type": "execute_result"
    }
   ],
   "source": [
    "X1_2 = activation_function(Z1_2)\n",
    "X1_2"
   ]
  },
  {
   "cell_type": "code",
   "execution_count": 205,
   "metadata": {},
   "outputs": [
    {
     "data": {
      "text/plain": [
       "array([[-4.43088952],\n",
       "       [-1.71544476]])"
      ]
     },
     "execution_count": 205,
     "metadata": {},
     "output_type": "execute_result"
    }
   ],
   "source": [
    "Z2_2 = np.matmul(W2, X1_2) + b2\n",
    "Z2_2"
   ]
  },
  {
   "cell_type": "code",
   "execution_count": 206,
   "metadata": {},
   "outputs": [
    {
     "data": {
      "text/plain": [
       "array([[-0.99956404],\n",
       "       [-0.99343227]])"
      ]
     },
     "execution_count": 206,
     "metadata": {},
     "output_type": "execute_result"
    }
   ],
   "source": [
    "X2_2 = activation_function(Z2_2)\n",
    "X2_2"
   ]
  },
  {
   "cell_type": "code",
   "execution_count": 207,
   "metadata": {},
   "outputs": [
    {
     "data": {
      "text/plain": [
       "array([[-0.99299631],\n",
       "       [-2.99212439],\n",
       "       [-0.99299631]])"
      ]
     },
     "execution_count": 207,
     "metadata": {},
     "output_type": "execute_result"
    }
   ],
   "source": [
    "Z3_2 = np.matmul(W3, X2_2) + b3\n",
    "Z3_2"
   ]
  },
  {
   "cell_type": "code",
   "execution_count": 208,
   "metadata": {},
   "outputs": [
    {
     "data": {
      "text/plain": [
       "array([[-0.98652085],\n",
       "       [-0.9981635 ],\n",
       "       [-0.98652085]])"
      ]
     },
     "execution_count": 208,
     "metadata": {},
     "output_type": "execute_result"
    }
   ],
   "source": [
    "X3_2 = activation_function(Z3_2)\n",
    "X3_2"
   ]
  },
  {
   "cell_type": "markdown",
   "metadata": {},
   "source": [
    "## Backpropagation"
   ]
  },
  {
   "cell_type": "markdown",
   "metadata": {},
   "source": [
    "#### derived activation function"
   ]
  },
  {
   "cell_type": "code",
   "execution_count": 209,
   "metadata": {},
   "outputs": [],
   "source": [
    "def derived_actication_function(x):\n",
    "    return (1 / (np.cosh(0.5 * x - 2) ** 2)) * 0.5"
   ]
  },
  {
   "cell_type": "markdown",
   "metadata": {},
   "source": [
    "Cálculo de deltas"
   ]
  },
  {
   "cell_type": "code",
   "execution_count": 210,
   "metadata": {},
   "outputs": [
    {
     "data": {
      "text/plain": [
       "array([[ 0.00677537],\n",
       "       [-0.31773455],\n",
       "       [ 0.00677537]])"
      ]
     },
     "execution_count": 210,
     "metadata": {},
     "output_type": "execute_result"
    }
   ],
   "source": [
    "delta3_1 = np.multiply((X3_1 - t1), derived_actication_function(Z3_1))\n",
    "delta3_1"
   ]
  },
  {
   "cell_type": "code",
   "execution_count": 211,
   "metadata": {},
   "outputs": [
    {
     "data": {
      "text/plain": [
       "array([[-2.65961421e-02],\n",
       "       [ 3.36962051e-06],\n",
       "       [ 1.80462886e-04]])"
      ]
     },
     "execution_count": 211,
     "metadata": {},
     "output_type": "execute_result"
    }
   ],
   "source": [
    "delta3_2 = np.multiply((X3_2 - t2), derived_actication_function(Z3_2))\n",
    "delta3_2"
   ]
  },
  {
   "cell_type": "code",
   "execution_count": 212,
   "metadata": {},
   "outputs": [
    {
     "data": {
      "text/plain": [
       "array([[-0.37448246],\n",
       "       [-0.10155772]])"
      ]
     },
     "execution_count": 212,
     "metadata": {},
     "output_type": "execute_result"
    }
   ],
   "source": [
    "delta2_1 = np.multiply(np.matmul(W3.T, delta3_1), derived_actication_function(Z2_1))\n",
    "delta2_1"
   ]
  },
  {
   "cell_type": "code",
   "execution_count": 213,
   "metadata": {},
   "outputs": [
    {
     "data": {
      "text/plain": [
       "array([[-1.15092599e-05],\n",
       "       [-1.72899298e-04]])"
      ]
     },
     "execution_count": 213,
     "metadata": {},
     "output_type": "execute_result"
    }
   ],
   "source": [
    "delta2_2 = np.multiply(np.matmul(W3.T, delta3_2), derived_actication_function(Z2_2))\n",
    "delta2_2"
   ]
  },
  {
   "cell_type": "code",
   "execution_count": 214,
   "metadata": {},
   "outputs": [
    {
     "data": {
      "text/plain": [
       "array([[-0.18719036],\n",
       "       [-0.33587187],\n",
       "       [-0.18719036]])"
      ]
     },
     "execution_count": 214,
     "metadata": {},
     "output_type": "execute_result"
    }
   ],
   "source": [
    "delta1_1 = np.multiply(np.matmul(W2.T, delta2_1), derived_actication_function(Z1_1))\n",
    "delta1_1"
   ]
  },
  {
   "cell_type": "code",
   "execution_count": 215,
   "metadata": {},
   "outputs": [
    {
     "data": {
      "text/plain": [
       "array([[-1.66619254e-05],\n",
       "       [-1.97816249e-05],\n",
       "       [-1.66619254e-05]])"
      ]
     },
     "execution_count": 215,
     "metadata": {},
     "output_type": "execute_result"
    }
   ],
   "source": [
    "delta1_2 = np.multiply(np.matmul(W2.T, delta2_2), derived_actication_function(Z1_2))\n",
    "delta1_2"
   ]
  },
  {
   "cell_type": "markdown",
   "metadata": {},
   "source": [
    "#### Updates dos valores"
   ]
  },
  {
   "cell_type": "markdown",
   "metadata": {},
   "source": [
    "##### Nível 3"
   ]
  },
  {
   "cell_type": "code",
   "execution_count": 216,
   "metadata": {},
   "outputs": [
    {
     "data": {
      "text/plain": [
       "array([[ 0.02963673,  0.022516  ],\n",
       "       [-0.14313723,  0.18314544],\n",
       "       [ 0.0028718 , -0.00408474]])"
      ]
     },
     "execution_count": 216,
     "metadata": {},
     "output_type": "execute_result"
    }
   ],
   "source": [
    "dE_dW3 = (delta3_1 * X2_1.T) + (delta3_2 * X2_2.T)\n",
    "dE_dW3"
   ]
  },
  {
   "cell_type": "code",
   "execution_count": 217,
   "metadata": {},
   "outputs": [
    {
     "data": {
      "text/plain": [
       "array([[0.99703633, 0.9977484 ],\n",
       "       [3.01431372, 0.98168546],\n",
       "       [0.99971282, 1.00040847]])"
      ]
     },
     "execution_count": 217,
     "metadata": {},
     "output_type": "execute_result"
    }
   ],
   "source": [
    "W3_new = W3 - (learning_rate * dE_dW3)\n",
    "W3_new"
   ]
  },
  {
   "cell_type": "code",
   "execution_count": 218,
   "metadata": {},
   "outputs": [
    {
     "data": {
      "text/plain": [
       "array([[-0.01982077],\n",
       "       [-0.31773118],\n",
       "       [ 0.00695584]])"
      ]
     },
     "execution_count": 218,
     "metadata": {},
     "output_type": "execute_result"
    }
   ],
   "source": [
    "dE_db3 = (delta3_1 + delta3_2)\n",
    "dE_db3"
   ]
  },
  {
   "cell_type": "code",
   "execution_count": 219,
   "metadata": {},
   "outputs": [
    {
     "data": {
      "text/plain": [
       "array([[1.00198208],\n",
       "       [1.03177312],\n",
       "       [0.99930442]])"
      ]
     },
     "execution_count": 219,
     "metadata": {},
     "output_type": "execute_result"
    }
   ],
   "source": [
    "b3_new = b3 - (learning_rate * dE_db3)\n",
    "b3_new"
   ]
  },
  {
   "cell_type": "markdown",
   "metadata": {},
   "source": [
    "##### Nível 2"
   ]
  },
  {
   "cell_type": "code",
   "execution_count": 220,
   "metadata": {},
   "outputs": [
    {
     "data": {
      "text/plain": [
       "array([[-0.17304435, -0.28519324, -0.17304435],\n",
       "       [-0.04677506, -0.07718926, -0.04677506]])"
      ]
     },
     "execution_count": 220,
     "metadata": {},
     "output_type": "execute_result"
    }
   ],
   "source": [
    "dE_dW2 = (delta2_1 * X1_1.T) + (delta2_2 * X1_2.T)\n",
    "dE_dW2"
   ]
  },
  {
   "cell_type": "code",
   "execution_count": 221,
   "metadata": {},
   "outputs": [
    {
     "data": {
      "text/plain": [
       "array([[1.01730444, 4.02851932, 1.01730444],\n",
       "       [1.00467751, 1.00771893, 1.00467751]])"
      ]
     },
     "execution_count": 221,
     "metadata": {},
     "output_type": "execute_result"
    }
   ],
   "source": [
    "W2_new = W2 - (learning_rate * dE_dW2)\n",
    "W2_new"
   ]
  },
  {
   "cell_type": "code",
   "execution_count": 222,
   "metadata": {},
   "outputs": [
    {
     "data": {
      "text/plain": [
       "array([[-0.37449397],\n",
       "       [-0.10173062]])"
      ]
     },
     "execution_count": 222,
     "metadata": {},
     "output_type": "execute_result"
    }
   ],
   "source": [
    "dE_db2 = (delta2_1 + delta2_2)\n",
    "dE_db2"
   ]
  },
  {
   "cell_type": "code",
   "execution_count": 223,
   "metadata": {},
   "outputs": [
    {
     "data": {
      "text/plain": [
       "array([[1.0374494 ],\n",
       "       [1.01017306]])"
      ]
     },
     "execution_count": 223,
     "metadata": {},
     "output_type": "execute_result"
    }
   ],
   "source": [
    "b2_new = b2 - (learning_rate * dE_db2)\n",
    "b2_new"
   ]
  },
  {
   "cell_type": "markdown",
   "metadata": {},
   "source": [
    "##### Nível 1"
   ]
  },
  {
   "cell_type": "code",
   "execution_count": 224,
   "metadata": {},
   "outputs": [
    {
     "data": {
      "text/plain": [
       "array([[-0.18720702, -0.18719036, -0.18719036, -0.1871737 ],\n",
       "       [-0.33589165, -0.33587187, -0.33587187, -0.33585209],\n",
       "       [-0.18720702, -0.18719036, -0.18719036, -0.1871737 ]])"
      ]
     },
     "execution_count": 224,
     "metadata": {},
     "output_type": "execute_result"
    }
   ],
   "source": [
    "dE_dW1 = (delta1_1 * X0_1.T) + (delta1_2 * X0_2.T)\n",
    "dE_dW1"
   ]
  },
  {
   "cell_type": "code",
   "execution_count": 225,
   "metadata": {},
   "outputs": [
    {
     "data": {
      "text/plain": [
       "array([[1.0187207 , 1.01871904, 1.01871904, 1.01871737],\n",
       "       [1.03358917, 1.03358719, 2.03358719, 1.03358521],\n",
       "       [1.0187207 , 1.01871904, 1.01871904, 1.01871737]])"
      ]
     },
     "execution_count": 225,
     "metadata": {},
     "output_type": "execute_result"
    }
   ],
   "source": [
    "W1_new = W1 - (learning_rate * dE_dW1)\n",
    "W1_new"
   ]
  },
  {
   "cell_type": "code",
   "execution_count": 226,
   "metadata": {},
   "outputs": [
    {
     "data": {
      "text/plain": [
       "array([[-0.18720702],\n",
       "       [-0.33589165],\n",
       "       [-0.18720702]])"
      ]
     },
     "execution_count": 226,
     "metadata": {},
     "output_type": "execute_result"
    }
   ],
   "source": [
    "dE_db1 = (delta1_1 + delta1_2)\n",
    "dE_db1"
   ]
  },
  {
   "cell_type": "code",
   "execution_count": 227,
   "metadata": {},
   "outputs": [
    {
     "data": {
      "text/plain": [
       "array([[1.0187207 ],\n",
       "       [1.03358917],\n",
       "       [1.0187207 ]])"
      ]
     },
     "execution_count": 227,
     "metadata": {},
     "output_type": "execute_result"
    }
   ],
   "source": [
    "b1_new = b1 - (learning_rate * dE_db1)\n",
    "b1_new"
   ]
  }
 ],
 "metadata": {
  "kernelspec": {
   "display_name": "Python 3",
   "language": "python",
   "name": "python3"
  },
  "language_info": {
   "codemirror_mode": {
    "name": "ipython",
    "version": 3
   },
   "file_extension": ".py",
   "mimetype": "text/x-python",
   "name": "python",
   "nbconvert_exporter": "python",
   "pygments_lexer": "ipython3",
   "version": "3.10.11"
  }
 },
 "nbformat": 4,
 "nbformat_minor": 2
}
