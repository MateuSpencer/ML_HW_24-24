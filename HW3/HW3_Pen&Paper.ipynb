{
 "cells": [
  {
   "cell_type": "markdown",
   "metadata": {},
   "source": [
    "# 1"
   ]
  },
  {
   "cell_type": "code",
   "execution_count": 38,
   "metadata": {},
   "outputs": [
    {
     "data": {
      "text/plain": [
       "array([[ 0.7, -0.3],\n",
       "       [ 0.4,  0.5],\n",
       "       [-0.2,  0.8],\n",
       "       [-0.4,  0.3]])"
      ]
     },
     "execution_count": 38,
     "metadata": {},
     "output_type": "execute_result"
    }
   ],
   "source": [
    "import numpy as np\n",
    "\n",
    "column1 = [0.7, 0.4, -0.2, -0.4]\n",
    "column2 = [-0.3, 0.5, 0.8, 0.3]\n",
    "column3 = [0.8, 0.6, 0.3, 0.3]\n",
    "\n",
    "X = np.column_stack((column1, column2))\n",
    "y = np.array(column3)\n",
    "\n",
    "X"
   ]
  },
  {
   "cell_type": "markdown",
   "metadata": {},
   "source": [
    "### a)"
   ]
  },
  {
   "cell_type": "code",
   "execution_count": 39,
   "metadata": {},
   "outputs": [
    {
     "name": "stdout",
     "output_type": "stream",
     "text": [
      "[[0.74826357 0.74826357 0.10126646]\n",
      " [0.81464732 0.27117254 0.33121088]\n",
      " [0.71177032 0.09632764 0.71177032]\n",
      " [0.8824969  0.16121764 0.65376979]]\n"
     ]
    }
   ],
   "source": [
    "# Regularization parameter (λ)\n",
    "alpha = 0.1\n",
    "\n",
    "# Define the RBF centers\n",
    "centers = [(0, 0), (1, -1), (-1, 1)]\n",
    "\n",
    "# Initialize an empty array for the transformed data\n",
    "X_transformed = np.zeros((len(column1), len(centers)))\n",
    "\n",
    "# Apply the radial basis function for each center\n",
    "for j, center in enumerate(centers):\n",
    "    for i in range(len(column1)):\n",
    "        x = np.array([column1[i], column2[i]])\n",
    "        c = np.array(center)\n",
    "        # Compute the radial basis function value and store it in the transformed_data array\n",
    "        X_transformed[i, j] = np.exp(-np.linalg.norm(x - c)**2 / 2)\n",
    "\n",
    "print(X_transformed)"
   ]
  },
  {
   "cell_type": "markdown",
   "metadata": {},
   "source": [
    "Learn the Ridge regression (𝑙2 regularization) using the closed solution"
   ]
  },
  {
   "cell_type": "code",
   "execution_count": 40,
   "metadata": {},
   "outputs": [
    {
     "data": {
      "text/plain": [
       "array([[2.50896639, 0.99164557, 1.42916086],\n",
       "       [0.99164557, 0.66870305, 0.33955168],\n",
       "       [1.42916086, 0.33955168, 1.05398747]])"
      ]
     },
     "execution_count": 40,
     "metadata": {},
     "output_type": "execute_result"
    }
   ],
   "source": [
    "np.matmul(X_transformed.T, X_transformed)"
   ]
  },
  {
   "cell_type": "code",
   "execution_count": 41,
   "metadata": {},
   "outputs": [
    {
     "data": {
      "text/plain": [
       "array([[2.60896639, 0.99164557, 1.42916086],\n",
       "       [0.99164557, 0.76870305, 0.33955168],\n",
       "       [1.42916086, 0.33955168, 1.15398747]])"
      ]
     },
     "execution_count": 41,
     "metadata": {},
     "output_type": "execute_result"
    }
   ],
   "source": [
    "np.matmul(X_transformed.T, X_transformed) + alpha * np.identity(3)"
   ]
  },
  {
   "cell_type": "code",
   "execution_count": 42,
   "metadata": {},
   "outputs": [
    {
     "data": {
      "text/plain": [
       "array([[ 2.84662423, -2.43092076, -2.81013512],\n",
       "       [-2.43092076,  3.57115579,  1.9598002 ],\n",
       "       [-2.81013512,  1.9598002 ,  3.77012906]])"
      ]
     },
     "execution_count": 42,
     "metadata": {},
     "output_type": "execute_result"
    }
   ],
   "source": [
    "inv = np.linalg.pinv(np.matmul(X_transformed.T, X_transformed) + alpha * np.identity(3))\n",
    "inv\n"
   ]
  },
  {
   "cell_type": "code",
   "execution_count": 43,
   "metadata": {},
   "outputs": [
    {
     "data": {
      "text/plain": [
       "array([[ 0.02648332,  0.72904851, -0.20819299,  0.28304831],\n",
       "       [ 1.05165836, -0.36283655,  0.00867137, -0.28828856],\n",
       "       [-0.25448701, -0.50911727,  0.87207812,  0.3008153 ]])"
      ]
     },
     "execution_count": 43,
     "metadata": {},
     "output_type": "execute_result"
    }
   ],
   "source": [
    "moore_penrose = np.matmul(inv, X_transformed.T)\n",
    "moore_penrose"
   ]
  },
  {
   "cell_type": "code",
   "execution_count": 44,
   "metadata": {},
   "outputs": [
    {
     "data": {
      "text/plain": [
       "array([ 0.48107235,  0.5397396 , -0.15719195])"
      ]
     },
     "execution_count": 44,
     "metadata": {},
     "output_type": "execute_result"
    }
   ],
   "source": [
    "W_ridge = np.matmul(moore_penrose, y)\n",
    "W_ridge"
   ]
  },
  {
   "cell_type": "markdown",
   "metadata": {},
   "source": [
    "Normal Regression"
   ]
  },
  {
   "cell_type": "code",
   "execution_count": 47,
   "metadata": {},
   "outputs": [
    {
     "data": {
      "text/plain": [
       "array([ 0.68169736,  0.45474315, -0.41676232])"
      ]
     },
     "execution_count": 47,
     "metadata": {},
     "output_type": "execute_result"
    }
   ],
   "source": [
    "W = np.matmul(np.matmul(np.linalg.inv(np.matmul(X_transformed.T, X_transformed)), X_transformed.T), y)\n",
    "W"
   ]
  },
  {
   "cell_type": "markdown",
   "metadata": {},
   "source": [
    "### b)"
   ]
  },
  {
   "cell_type": "code",
   "execution_count": 46,
   "metadata": {},
   "outputs": [
    {
     "name": "stdout",
     "output_type": "stream",
     "text": [
      "RMSE: 0.08337222225062338\n"
     ]
    }
   ],
   "source": [
    "y_pred = np.dot(X_transformed, W_ridge)\n",
    "\n",
    "rmse = np.sqrt(np.mean((y - y_pred)**2))\n",
    "\n",
    "print(\"RMSE:\", rmse)"
   ]
  }
 ],
 "metadata": {
  "kernelspec": {
   "display_name": "Python 3",
   "language": "python",
   "name": "python3"
  },
  "language_info": {
   "codemirror_mode": {
    "name": "ipython",
    "version": 3
   },
   "file_extension": ".py",
   "mimetype": "text/x-python",
   "name": "python",
   "nbconvert_exporter": "python",
   "pygments_lexer": "ipython3",
   "version": "3.10.11"
  }
 },
 "nbformat": 4,
 "nbformat_minor": 2
}
