{
 "cells": [
  {
   "cell_type": "markdown",
   "metadata": {},
   "source": [
    "# 1"
   ]
  },
  {
   "cell_type": "code",
   "execution_count": 82,
   "metadata": {},
   "outputs": [
    {
     "data": {
      "text/plain": [
       "array([[ 0.7, -0.3],\n",
       "       [ 0.4,  0.5],\n",
       "       [-0.2,  0.8],\n",
       "       [-0.4,  0.3]])"
      ]
     },
     "execution_count": 82,
     "metadata": {},
     "output_type": "execute_result"
    }
   ],
   "source": [
    "import numpy as np\n",
    "\n",
    "column1 = [0.7, 0.4, -0.2, -0.4]\n",
    "column2 = [-0.3, 0.5, 0.8, 0.3]\n",
    "column3 = [0.8, 0.6, 0.3, 0.3]\n",
    "\n",
    "X = np.column_stack((column1, column2))\n",
    "\n",
    "y = np.array(column3)\n",
    "\n",
    "X"
   ]
  },
  {
   "cell_type": "markdown",
   "metadata": {},
   "source": [
    "### a)"
   ]
  },
  {
   "cell_type": "code",
   "execution_count": 83,
   "metadata": {},
   "outputs": [
    {
     "name": "stdout",
     "output_type": "stream",
     "text": [
      "[[1.         0.74826357 0.74826357 0.10126646]\n",
      " [1.         0.81464732 0.27117254 0.33121088]\n",
      " [1.         0.71177032 0.09632764 0.71177032]\n",
      " [1.         0.8824969  0.16121764 0.65376979]]\n"
     ]
    }
   ],
   "source": [
    "# Regularization parameter (λ)\n",
    "alpha = 0.1\n",
    "\n",
    "# Define the RBF centers\n",
    "centers = [(0, 0), (1, -1), (-1, 1)]\n",
    "\n",
    "# Initialize an empty array for the transformed data\n",
    "X_transformed = np.zeros((len(column1), len(centers)))\n",
    "\n",
    "# Apply the radial basis function for each center\n",
    "for j, center in enumerate(centers):\n",
    "    for i in range(len(column1)):\n",
    "        x = np.array([column1[i], column2[i]])\n",
    "        c = np.array(center)\n",
    "        # Compute the radial basis function value and store it in the transformed_data array\n",
    "        X_transformed[i, j] = np.exp(-np.linalg.norm(x - c)**2 / 2)\n",
    "\n",
    "# Add a column of 1s for the bias term\n",
    "bias_column = np.ones((len(column1), 1))\n",
    "X_transformed = np.hstack((bias_column, X_transformed))\n",
    "\n",
    "print(X_transformed)"
   ]
  },
  {
   "cell_type": "markdown",
   "metadata": {},
   "source": [
    "Learn the Ridge regression (𝑙2 regularization) using the closed solution"
   ]
  },
  {
   "cell_type": "code",
   "execution_count": 84,
   "metadata": {},
   "outputs": [
    {
     "data": {
      "text/plain": [
       "array([[4.        , 3.15717811, 1.27698138, 1.79801745],\n",
       "       [3.15717811, 2.50896639, 0.99164557, 1.42916086],\n",
       "       [1.27698138, 0.99164557, 0.66870305, 0.33955168],\n",
       "       [1.79801745, 1.42916086, 0.33955168, 1.05398747]])"
      ]
     },
     "execution_count": 84,
     "metadata": {},
     "output_type": "execute_result"
    }
   ],
   "source": [
    "np.matmul(X_transformed.T, X_transformed)"
   ]
  },
  {
   "cell_type": "code",
   "execution_count": 85,
   "metadata": {},
   "outputs": [
    {
     "data": {
      "text/plain": [
       "array([[4.1       , 3.15717811, 1.27698138, 1.79801745],\n",
       "       [3.15717811, 2.60896639, 0.99164557, 1.42916086],\n",
       "       [1.27698138, 0.99164557, 0.76870305, 0.33955168],\n",
       "       [1.79801745, 1.42916086, 0.33955168, 1.15398747]])"
      ]
     },
     "execution_count": 85,
     "metadata": {},
     "output_type": "execute_result"
    }
   ],
   "source": [
    "np.matmul(X_transformed.T, X_transformed) + alpha * np.identity(4)"
   ]
  },
  {
   "cell_type": "code",
   "execution_count": 86,
   "metadata": {},
   "outputs": [
    {
     "data": {
      "text/plain": [
       "array([[ 4.54826202, -3.77681832, -1.86116983, -1.86155421],\n",
       "       [-3.77681832,  5.98284561, -0.88542926, -1.26432443],\n",
       "       [-1.86116983, -0.88542926,  4.33275508,  2.72155678],\n",
       "       [-1.86155421, -1.26432443,  2.72155678,  4.53204296]])"
      ]
     },
     "execution_count": 86,
     "metadata": {},
     "output_type": "execute_result"
    }
   ],
   "source": [
    "inv = np.linalg.pinv(np.matmul(X_transformed.T, X_transformed) + alpha * np.identity(4))\n",
    "inv\n"
   ]
  },
  {
   "cell_type": "code",
   "execution_count": 87,
   "metadata": {},
   "outputs": [
    {
     "data": {
      "text/plain": [
       "array([[ 0.14104789,  0.35022196,  0.3557537 , -0.30184975],\n",
       "       [-0.09064104,  0.43822869, -0.50360629,  0.53370047],\n",
       "       [ 0.99394091, -0.506149  , -0.13690469, -0.16477025],\n",
       "       [-0.31221638, -0.65245932,  0.726472  ,  0.42435912]])"
      ]
     },
     "execution_count": 87,
     "metadata": {},
     "output_type": "execute_result"
    }
   ],
   "source": [
    "moore_penrose = np.matmul(inv, X_transformed.T)\n",
    "moore_penrose"
   ]
  },
  {
   "cell_type": "code",
   "execution_count": 88,
   "metadata": {},
   "outputs": [
    {
     "data": {
      "text/plain": [
       "array([ 0.33914267,  0.19945264,  0.40096085, -0.29599936])"
      ]
     },
     "execution_count": 88,
     "metadata": {},
     "output_type": "execute_result"
    }
   ],
   "source": [
    "W_ridge = np.matmul(moore_penrose, y)\n",
    "W_ridge"
   ]
  },
  {
   "cell_type": "markdown",
   "metadata": {},
   "source": [
    "Normal Regression"
   ]
  },
  {
   "cell_type": "code",
   "execution_count": 89,
   "metadata": {},
   "outputs": [
    {
     "data": {
      "text/plain": [
       "array([ 1.1372652 , -0.283163  , -0.04756383, -0.88671365])"
      ]
     },
     "execution_count": 89,
     "metadata": {},
     "output_type": "execute_result"
    }
   ],
   "source": [
    "W = np.matmul(np.matmul(np.linalg.inv(np.matmul(X_transformed.T, X_transformed)), X_transformed.T), y)\n",
    "W"
   ]
  },
  {
   "cell_type": "markdown",
   "metadata": {},
   "source": [
    "### b)"
   ]
  },
  {
   "cell_type": "code",
   "execution_count": 92,
   "metadata": {},
   "outputs": [
    {
     "name": "stdout",
     "output_type": "stream",
     "text": [
      "RMSE: 0.06508238153393446\n"
     ]
    }
   ],
   "source": [
    "y_pred = np.dot(X_transformed, W_ridge)\n",
    "\n",
    "rmse = np.sqrt(np.mean((y - y_pred)**2))\n",
    "\n",
    "print(\"RMSE:\", rmse)"
   ]
  },
  {
   "cell_type": "markdown",
   "metadata": {},
   "source": [
    "# 2"
   ]
  },
  {
   "cell_type": "code",
   "execution_count": null,
   "metadata": {},
   "outputs": [],
   "source": []
  }
 ],
 "metadata": {
  "kernelspec": {
   "display_name": "Python 3",
   "language": "python",
   "name": "python3"
  },
  "language_info": {
   "codemirror_mode": {
    "name": "ipython",
    "version": 3
   },
   "file_extension": ".py",
   "mimetype": "text/x-python",
   "name": "python",
   "nbconvert_exporter": "python",
   "pygments_lexer": "ipython3",
   "version": "3.10.11"
  }
 },
 "nbformat": 4,
 "nbformat_minor": 2
}
