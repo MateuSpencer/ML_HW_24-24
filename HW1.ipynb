{
 "cells": [
  {
   "cell_type": "markdown",
   "metadata": {},
   "source": [
    "## II. Programming"
   ]
  },
  {
   "cell_type": "markdown",
   "metadata": {},
   "source": [
    "#### 1)"
   ]
  },
  {
   "cell_type": "code",
   "execution_count": null,
   "metadata": {},
   "outputs": [],
   "source": [
    "import pandas as pd\n",
    "from scipy.io.arff import loadarff\n",
    "from sklearn.feature_selection import f_classif\n",
    "\n",
    "data = loadarff('column_diagnosis.arff')\n",
    "df = pd.DataFrame(data[0])\n",
    "df.head()"
   ]
  },
  {
   "cell_type": "code",
   "execution_count": null,
   "metadata": {},
   "outputs": [],
   "source": [
    "X = df.drop('class', axis=1)\n",
    "y = df['class']\n",
    "y = y.astype(str)\n",
    "\n",
    "fimportance = f_classif(X, y)\n",
    "\n",
    "feature_importance_df = pd.DataFrame({'Feature': X.columns, 'F-Score': fimportance[0]})\n",
    "\n",
    "index_of_highest_fscore = feature_importance_df['F-Score'].idxmax()\n",
    "index_of_lowest_fscore = feature_importance_df['F-Score'].idxmin()\n",
    "\n",
    "highest_feature = feature_importance_df.iloc[index_of_highest_fscore]\n",
    "lowest_feature = feature_importance_df.iloc[index_of_lowest_fscore]\n",
    "\n",
    "print(\"Feature with Highest F-Score:\")\n",
    "print(highest_feature)\n",
    "\n",
    "print(\"\\nFeature with Lowest F-Score:\")\n",
    "print(lowest_feature)"
   ]
  },
  {
   "cell_type": "code",
   "execution_count": null,
   "metadata": {},
   "outputs": [],
   "source": [
    "import matplotlib.pyplot as plt\n",
    "import seaborn as sns\n",
    "\n",
    "sns.boxplot(x=\"class\", y='degree_spondylolisthesis', data=df)      \n",
    "plt.show()"
   ]
  },
  {
   "cell_type": "code",
   "execution_count": null,
   "metadata": {},
   "outputs": [],
   "source": [
    "# max_value_index = df['degree_spondylolisthesis'].idxmax()\n",
    "# df = df.drop(max_value_index)\n",
    "\n",
    "highest_feature_name = highest_feature['Feature']\n",
    "lowest_feature_name = lowest_feature['Feature']\n",
    "\n",
    "plt.figure(figsize=(12, 6))\n",
    "\n",
    "# Plot for the feature with the highest F-Score\n",
    "plt.subplot(1, 2, 1)\n",
    "for class_label in df['class'].unique():\n",
    "    sns.kdeplot(data=df[df['class'] == class_label], x=highest_feature_name, label=class_label.decode('utf-8'))\n",
    "plt.title(f'Class-Conditional PDF for {highest_feature_name} (Highest F-Score)')\n",
    "plt.legend()\n",
    "\n",
    "# Plot for the feature with the lowest F-Score\n",
    "plt.subplot(1, 2, 2)\n",
    "for class_label in df['class'].unique():\n",
    "    sns.kdeplot(data=df[df['class'] == class_label], x=lowest_feature_name, label=class_label.decode('utf-8'))\n",
    "plt.title(f'Class-Conditional PDF for {lowest_feature_name} (Lowest F-Score)')\n",
    "plt.legend()\n",
    "\n",
    "plt.tight_layout()\n",
    "plt.show()"
   ]
  },
  {
   "cell_type": "markdown",
   "metadata": {},
   "source": [
    "#### 2)"
   ]
  },
  {
   "cell_type": "code",
   "execution_count": null,
   "metadata": {},
   "outputs": [],
   "source": [
    "from sklearn.model_selection import train_test_split\n",
    "from sklearn import tree, metrics\n",
    "from adjustText import adjust_text  # Import adjust_text function\n",
    "\n",
    "\n",
    "depths = {1,2,3,4,5,6,8,10}\n",
    "\n",
    "train_accuracies = []\n",
    "test_accuracies = []\n",
    "\n",
    "X_train, X_test, y_train, y_test = train_test_split(X, y, train_size=0.7, random_state=0)\n",
    "\n",
    "for depth in depths:\n",
    "    predictor = tree.DecisionTreeClassifier(max_depth=depth)\n",
    "    predictor.fit(X_train, y_train)\n",
    "    \n",
    "    # Training Accuracy\n",
    "    y_train_pred = predictor.predict(X_train)\n",
    "    train_accuracy = metrics.accuracy_score(y_train, y_train_pred)\n",
    "    train_accuracies.append(train_accuracy)\n",
    "    \n",
    "    y_test_pred = predictor.predict(X_test)\n",
    "    test_accuracy = metrics.accuracy_score(y_test, y_test_pred)\n",
    "    test_accuracies.append(test_accuracy)\n",
    "\n",
    "plt.figure(figsize=(8, 6))\n",
    "for i, depth in enumerate(depths):\n",
    "    plt.scatter(train_accuracies[i], test_accuracies[i], label=f'Depth {depth}')\n",
    "    plt.annotate(f'Depth {depth}', (train_accuracies[i], test_accuracies[i]), textcoords='offset points', xytext=(5,5), ha='center')\n",
    "\n",
    "plt.title('Train vs. Test Accuracies for Different Depths')\n",
    "plt.xlabel('Training Accuracy')\n",
    "plt.ylabel('Testing Accuracy')\n",
    "plt.legend()\n",
    "plt.grid(True)\n",
    "plt.show()\n"
   ]
  }
 ],
 "metadata": {
  "kernelspec": {
   "display_name": "Python 3",
   "language": "python",
   "name": "python3"
  },
  "language_info": {
   "codemirror_mode": {
    "name": "ipython",
    "version": 3
   },
   "file_extension": ".py",
   "mimetype": "text/x-python",
   "name": "python",
   "nbconvert_exporter": "python",
   "pygments_lexer": "ipython3",
   "version": "3.10.11"
  },
  "orig_nbformat": 4
 },
 "nbformat": 4,
 "nbformat_minor": 2
}
