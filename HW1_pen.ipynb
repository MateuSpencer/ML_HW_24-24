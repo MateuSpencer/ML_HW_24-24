{
 "cells": [
  {
   "cell_type": "code",
   "execution_count": 14,
   "metadata": {},
   "outputs": [
    {
     "data": {
      "text/html": [
       "<div>\n",
       "<style scoped>\n",
       "    .dataframe tbody tr th:only-of-type {\n",
       "        vertical-align: middle;\n",
       "    }\n",
       "\n",
       "    .dataframe tbody tr th {\n",
       "        vertical-align: top;\n",
       "    }\n",
       "\n",
       "    .dataframe thead th {\n",
       "        text-align: right;\n",
       "    }\n",
       "</style>\n",
       "<table border=\"1\" class=\"dataframe\">\n",
       "  <thead>\n",
       "    <tr style=\"text-align: right;\">\n",
       "      <th></th>\n",
       "      <th>𝐷</th>\n",
       "      <th>𝑦1</th>\n",
       "      <th>𝑦2</th>\n",
       "      <th>𝑦3</th>\n",
       "      <th>𝑦4</th>\n",
       "      <th>𝑦out</th>\n",
       "    </tr>\n",
       "  </thead>\n",
       "  <tbody>\n",
       "    <tr>\n",
       "      <th>0</th>\n",
       "      <td>𝐷</td>\n",
       "      <td>0.24</td>\n",
       "      <td>1</td>\n",
       "      <td>1</td>\n",
       "      <td>0</td>\n",
       "      <td>A</td>\n",
       "    </tr>\n",
       "    <tr>\n",
       "      <th>1</th>\n",
       "      <td>𝐱2</td>\n",
       "      <td>0.06</td>\n",
       "      <td>2</td>\n",
       "      <td>0</td>\n",
       "      <td>0</td>\n",
       "      <td>B</td>\n",
       "    </tr>\n",
       "    <tr>\n",
       "      <th>2</th>\n",
       "      <td>𝐱3</td>\n",
       "      <td>0.04</td>\n",
       "      <td>0</td>\n",
       "      <td>0</td>\n",
       "      <td>0</td>\n",
       "      <td>B</td>\n",
       "    </tr>\n",
       "    <tr>\n",
       "      <th>3</th>\n",
       "      <td>𝐱4</td>\n",
       "      <td>0.36</td>\n",
       "      <td>0</td>\n",
       "      <td>2</td>\n",
       "      <td>1</td>\n",
       "      <td>C</td>\n",
       "    </tr>\n",
       "    <tr>\n",
       "      <th>4</th>\n",
       "      <td>𝐱5</td>\n",
       "      <td>0.32</td>\n",
       "      <td>0</td>\n",
       "      <td>0</td>\n",
       "      <td>2</td>\n",
       "      <td>C</td>\n",
       "    </tr>\n",
       "  </tbody>\n",
       "</table>\n",
       "</div>"
      ],
      "text/plain": [
       "    𝐷    𝑦1  𝑦2  𝑦3  𝑦4 𝑦out\n",
       "0   𝐷  0.24   1   1   0    A\n",
       "1  𝐱2  0.06   2   0   0    B\n",
       "2  𝐱3  0.04   0   0   0    B\n",
       "3  𝐱4  0.36   0   2   1    C\n",
       "4  𝐱5  0.32   0   0   2    C"
      ]
     },
     "execution_count": 14,
     "metadata": {},
     "output_type": "execute_result"
    }
   ],
   "source": [
    "import pandas as pd\n",
    "\n",
    "data = [\n",
    "    [\"𝐷\", 0.24, 1, 1, 0, \"A\"],\n",
    "    [\"𝐱2\", 0.06, 2, 0, 0, \"B\"],\n",
    "    [\"𝐱3\", 0.04, 0, 0, 0, \"B\"],\n",
    "    [\"𝐱4\", 0.36, 0, 2, 1, \"C\"],\n",
    "    [\"𝐱5\", 0.32, 0, 0, 2, \"C\"],\n",
    "    [\"𝐱6\", 0.68, 2, 2, 1, \"A\"],\n",
    "    [\"𝐱7\", 0.9, 0, 1, 2, \"A\"],\n",
    "    [\"𝐱8\", 0.76, 2, 2, 0, \"A\"],\n",
    "    [\"𝐱9\", 0.46, 1, 1, 1, \"B\"],\n",
    "    [\"𝐱10\", 0.62, 0, 0, 1, \"B\"],\n",
    "    [\"𝐱11\", 0.44, 1, 2, 2, \"C\"],\n",
    "    [\"𝐱12\", 0.52, 0, 2, 0, \"C\"]\n",
    "]\n",
    "\n",
    "columns = [\"𝐷\", \"𝑦1\", \"𝑦2\", \"𝑦3\", \"𝑦4\", \"𝑦out\"]\n",
    "df = pd.DataFrame(data, columns=columns)\n",
    "\n",
    "df.head()"
   ]
  },
  {
   "cell_type": "code",
   "execution_count": 16,
   "metadata": {},
   "outputs": [
    {
     "name": "stdout",
     "output_type": "stream",
     "text": [
      "Spearman Correlation Coefficient between 𝑦1 and 𝑦2: 0.07965868656654054\n"
     ]
    }
   ],
   "source": [
    "import scipy.stats\n",
    "\n",
    "# Assuming you already have the DataFrame df\n",
    "spearman_coef, _ = scipy.stats.spearmanr(df['𝑦1'], df['𝑦2'])\n",
    "\n",
    "print(f\"Spearman Correlation Coefficient between 𝑦1 and 𝑦2: {spearman_coef:}\")"
   ]
  },
  {
   "cell_type": "code",
   "execution_count": 18,
   "metadata": {},
   "outputs": [
    {
     "name": "stderr",
     "output_type": "stream",
     "text": [
      "C:\\Users\\mateu\\AppData\\Local\\Temp\\ipykernel_22320\\1431887527.py:32: UserWarning: Glyph 119910 (\\N{MATHEMATICAL ITALIC SMALL Y}) missing from current font.\n",
      "  plt.tight_layout()\n"
     ]
    },
    {
     "data": {
      "image/png": "[encoded data removed]",
      "text/plain": [
       "<Figure size 1500x500 with 3 Axes>"
      ]
     },
     "metadata": {},
     "output_type": "display_data"
    }
   ],
   "source": [
    "import matplotlib.pyplot as plt\n",
    "import numpy as np\n",
    "\n",
    "# Assuming you have the DataFrame df\n",
    "# Separate data into classes\n",
    "class_A = df[df['𝑦out'] == 'A']['𝑦1']\n",
    "class_B = df[df['𝑦out'] == 'B']['𝑦1']\n",
    "class_C = df[df['𝑦out'] == 'C']['𝑦1']\n",
    "\n",
    "# Create histograms\n",
    "num_bins = 5\n",
    "\n",
    "# Create subplots\n",
    "fig, (ax1, ax2, ax3) = plt.subplots(1, 3, figsize=(15, 5))\n",
    "\n",
    "# Plot histograms for each class\n",
    "ax1.hist(class_A, bins=np.linspace(0, 1, num_bins+1), alpha=0.5, label='Class A', density=True)\n",
    "ax1.set_xlabel('𝑦1')\n",
    "ax1.set_ylabel('Relative Frequency')\n",
    "ax1.set_title('Class A Histogram')\n",
    "\n",
    "ax2.hist(class_B, bins=np.linspace(0, 1, num_bins+1), alpha=0.5, label='Class B', density=True)\n",
    "ax2.set_xlabel('𝑦1')\n",
    "ax2.set_ylabel('Relative Frequency')\n",
    "ax2.set_title('Class B Histogram')\n",
    "\n",
    "ax3.hist(class_C, bins=np.linspace(0, 1, num_bins+1), alpha=0.5, label='Class C', density=True)\n",
    "ax3.set_xlabel('𝑦1')\n",
    "ax3.set_ylabel('Relative Frequency')\n",
    "ax3.set_title('Class C Histogram')\n",
    "\n",
    "plt.tight_layout()\n",
    "plt.show()\n"
   ]
  }
 ],
 "metadata": {
  "kernelspec": {
   "display_name": "Python 3",
   "language": "python",
   "name": "python3"
  },
  "language_info": {
   "codemirror_mode": {
    "name": "ipython",
    "version": 3
   },
   "file_extension": ".py",
   "mimetype": "text/x-python",
   "name": "python",
   "nbconvert_exporter": "python",
   "pygments_lexer": "ipython3",
   "version": "3.10.11"
  },
  "orig_nbformat": 4
 },
 "nbformat": 4,
 "nbformat_minor": 2
}
